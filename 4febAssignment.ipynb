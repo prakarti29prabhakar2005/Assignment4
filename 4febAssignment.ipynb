{
 "cells": [
  {
   "cell_type": "code",
   "execution_count": null,
   "id": "8b2fdd1c-108a-4fa3-9905-eeb825d6df36",
   "metadata": {},
   "outputs": [],
   "source": [
    "#Create a python program to sort the given list of tuples based on integer value using a lambda function.\n",
    "#[('Sachin Tendulkar', 34357), ('Ricky Ponting', 27483), ('Jack Kallis', 25534), ('Virat Kohli', 24936)]\n",
    "solution:\n",
    "    \n",
    "l=[('Sachin Tendulkar', 34357), ('Ricky Ponting', 27483), ('Jack Kallis', 25534), ('Virat Kohli', 24936)]\n",
    "sorted_list = sorted(l, key=lambda x: x[1])\n",
    "print(sorted_list)"
   ]
  },
  {
   "cell_type": "code",
   "execution_count": null,
   "id": "130dd715-e112-4743-9f86-caac046b0af3",
   "metadata": {},
   "outputs": [],
   "source": [
    "#Write a Python Program to find the squares of all the numbers in the given list of integers using lambda and map functions.\n",
    "#[1, 2, 3, 4, 5, 6, 7, 8, 9, 10]\n",
    "solution:\n",
    "    \n",
    "l=[1, 2, 3, 4, 5, 6, 7, 8, 9, 10]\n",
    "a=list(map(lambda x:x**2, l ))\n",
    "print(a)"
   ]
  },
  {
   "cell_type": "code",
   "execution_count": null,
   "id": "2d17e337-24b2-4847-85fc-7f54ac9f2066",
   "metadata": {},
   "outputs": [],
   "source": [
    "#Write a python program to convert the given list of integers into a tuple of strings. Use map and lambda functions\n",
    "#Given String: [1, 2, 3, 4, 5, 6, 7, 8, 9, 10]\n",
    "#Expected output: ('1', '2', '3', '4', '5', '6', '7', '8', '9', '10')\n",
    "solution: \n",
    "    \n",
    "l=[1, 2, 3, 4, 5, 6, 7, 8, 9, 10]\n",
    "a=tuple(map(lambda x:str(x), l))\n",
    "print(a)"
   ]
  },
  {
   "cell_type": "code",
   "execution_count": null,
   "id": "1c287f1e-0245-402c-910d-85f5ef0ff412",
   "metadata": {},
   "outputs": [],
   "source": [
    "#Write a python program using reduce function to compute the product of a list containing numbers from 1 to 25.\n",
    "solution:\n",
    "    \n",
    "l=list(range(1,26))\n",
    "from functools import reduce\n",
    "a=reduce(lambda x,y:x*y, l)\n",
    "print(a)"
   ]
  },
  {
   "cell_type": "code",
   "execution_count": null,
   "id": "793589d2-39c0-46ba-bf9c-85ac32ca2f74",
   "metadata": {},
   "outputs": [],
   "source": [
    "#Write a python program to filter the numbers in a given list that are divisible by 2 and 3 using the filter function.\n",
    "#[2, 3, 6, 9, 27, 60, 90, 120, 55, 46]\n",
    "solution:\n",
    "    \n",
    "l=[2, 3, 6, 9, 27, 60, 90, 120, 55, 46]\n",
    "a=list(filter(lambda x:x%6==0, l))#if any number is divisible by 2 and 3 it is divisible by 6\n",
    "print(a)"
   ]
  },
  {
   "cell_type": "code",
   "execution_count": null,
   "id": "402fea01-5a75-4ad3-9c83-7668e7ee36b1",
   "metadata": {},
   "outputs": [],
   "source": [
    "#Write a python program to find palindromes in the given list of strings using lambda and filter function.\n",
    "#['python', 'php', 'aba', 'radar', 'level']\n",
    "solution:\n",
    "    \n",
    "l=['python', 'php', 'aba', 'radar', 'level']\n",
    "a=list(filter(lambda x: x == x[::-1], l))\n",
    "print(a)"
   ]
  }
 ],
 "metadata": {
  "kernelspec": {
   "display_name": "Python 3 (ipykernel)",
   "language": "python",
   "name": "python3"
  },
  "language_info": {
   "codemirror_mode": {
    "name": "ipython",
    "version": 3
   },
   "file_extension": ".py",
   "mimetype": "text/x-python",
   "name": "python",
   "nbconvert_exporter": "python",
   "pygments_lexer": "ipython3",
   "version": "3.10.8"
  }
 },
 "nbformat": 4,
 "nbformat_minor": 5
}
